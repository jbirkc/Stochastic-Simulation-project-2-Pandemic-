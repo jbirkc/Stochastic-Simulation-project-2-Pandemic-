{
 "cells": [
  {
   "cell_type": "code",
   "execution_count": 3,
   "metadata": {},
   "outputs": [],
   "source": [
    "import numpy as np\n",
    "import matplotlib.pyplot as plt\n",
    "import scipy.stats as stats"
   ]
  },
  {
   "cell_type": "code",
   "execution_count": 4,
   "metadata": {},
   "outputs": [],
   "source": [
    "def simulate_det_SIRS_model(beta, gamma, xi, N, I0, R0, num_days):\n",
    "    S, I, R = np.zeros(num_days), np.zeros(num_days), np.zeros(num_days)\n",
    "    S[0] = N - I0 - R0\n",
    "    I[0] = I0\n",
    "    R[0] = R0\n",
    "\n",
    "    for t in range(1, num_days):\n",
    "        new_infections = beta * S[t-1] * I[t-1] / N\n",
    "        new_recoveries = gamma * I[t-1]\n",
    "        new_susceptibles = xi * R[t-1]\n",
    "        \n",
    "        S[t] = S[t-1] - new_infections + new_susceptibles\n",
    "        I[t] = I[t-1] + new_infections - new_recoveries\n",
    "        R[t] = R[t-1] + new_recoveries - new_susceptibles\n",
    "    return S, I, R\n",
    "\n",
    "def simulate_stoc_SIRS_model(beta, gamma, xi, N, I0, R0, num_days):\n",
    "    S, I, R = np.zeros(num_days), np.zeros(num_days), np.zeros(num_days)\n",
    "    S[0] = N - I0 - R0\n",
    "    I[0] = I0\n",
    "    R[0] = R0\n",
    "\n",
    "    for t in range(1, num_days):\n",
    "        new_infections = np.random.binomial(S[t-1], beta * I[t-1] / N)\n",
    "        new_recoveries = np.random.binomial(I[t-1], gamma)\n",
    "        new_susceptibles = np.random.binomial(R[t-1], xi)\n",
    "\n",
    "        S[t] = S[t-1] - new_infections + new_susceptibles\n",
    "        I[t] = I[t-1] + new_infections - new_recoveries\n",
    "        R[t] = R[t-1] + new_recoveries - new_susceptibles\n",
    "    return S, I, R\n",
    "\n",
    "\n",
    "# SIRS model using exponential distribution\n",
    "def simulate_stoc_SIRS_model_exp(beta, gamma, xi, N, I0, R0, num_days):\n",
    "    S, I, R = np.zeros(num_days), np.zeros(num_days), np.zeros(num_days)\n",
    "    S[0] = N - I0 - R0\n",
    "    I[0] = I0\n",
    "    R[0] = R0\n",
    "\n",
    "    for t in range(1, num_days):\n",
    "        new_infections = np.random.exponential(beta * I[t-1] / N) * S[t-1]\n",
    "        new_recoveries = np.random.exponential(gamma) * I[t-1]\n",
    "        new_susceptibles = np.random.exponential(xi) * R[t-1]\n",
    "\n",
    "        S[t] = S[t-1] - new_infections + new_susceptibles\n",
    "        I[t] = I[t-1] + new_infections - new_recoveries\n",
    "        R[t] = R[t-1] + new_recoveries - new_susceptibles\n",
    "    return S, I, R\n"
   ]
  },
  {
   "cell_type": "code",
   "execution_count": 11,
   "metadata": {},
   "outputs": [
    {
     "data": {
      "image/png": "[encoded data removed]",
      "text/plain": [
       "<Figure size 432x288 with 1 Axes>"
      ]
     },
     "metadata": {
      "needs_background": "light"
     },
     "output_type": "display_data"
    }
   ],
   "source": [
    "# Define the parameters that result in a limit cycle\n",
    "beta = 0.6\n",
    "gamma = 1/20\n",
    "xi = 1/20\n",
    "N = 1000\n",
    "I0 = 5\n",
    "R0 = 0\n",
    "num_days = 200\n",
    "\n",
    "# Simulate SIRS deterministic model\n",
    "S_det, I_det, R_det = simulate_det_SIRS_model(beta, gamma, xi, N, I0, R0, num_days)\n",
    "\n",
    "# makes 100 plots\n",
    "num_simulations = 100\n",
    "\n",
    "# Arrays to store simulation results\n",
    "all_S = np.zeros((num_simulations, num_days))\n",
    "all_I = np.zeros((num_simulations, num_days))\n",
    "all_R = np.zeros((num_simulations, num_days))\n",
    "\n",
    "# Run simulations\n",
    "for i in range(num_simulations):\n",
    "    # Simulate SIR model\n",
    "    S, I, R = simulate_stoc_SIRS_model(beta, gamma, xi, N, I0, R0, num_days)\n",
    "    \n",
    "    # Store results\n",
    "    all_S[i] = S\n",
    "    all_I[i] = I\n",
    "    all_R[i] = R\n",
    "\n",
    "# Calculate mean and confidence interval\n",
    "mean_S = np.mean(all_S, axis=0)\n",
    "mean_I = np.mean(all_I, axis=0)\n",
    "mean_R = np.mean(all_R, axis=0)\n",
    "\n",
    "std_S = np.std(all_S, axis=0)\n",
    "std_I = np.std(all_I, axis=0)\n",
    "std_R = np.std(all_R, axis=0)\n",
    "\n",
    "lower_ci_S = mean_S - 1.96 * std_S / np.sqrt(num_simulations)\n",
    "lower_ci_I = mean_I - 1.96 * std_I / np.sqrt(num_simulations)\n",
    "lower_ci_R = mean_R - 1.96 * std_R / np.sqrt(num_simulations)\n",
    "\n",
    "upper_ci_S = mean_S + 1.96 * std_S / np.sqrt(num_simulations)\n",
    "upper_ci_I = mean_I + 1.96 * std_I / np.sqrt(num_simulations)\n",
    "upper_ci_R = mean_R + 1.96 * std_R / np.sqrt(num_simulations)\n",
    "\n",
    "#the mean and confidence interval\n",
    "plt.plot(mean_S, label='Mean S', color='r', linestyle=(0,(4,5)), alpha=0.5)\n",
    "plt.plot(mean_I, label='Mean I', color='b', linestyle=(0,(4,5)), alpha=0.5)\n",
    "plt.plot(mean_R, label='Mean R', color='g', linestyle=(0,(4,5)), alpha=0.5)\n",
    "\n",
    "plt.fill_between(range(num_days), lower_ci_S, upper_ci_S, color='r', alpha=0.3)\n",
    "plt.fill_between(range(num_days), lower_ci_I, upper_ci_I, color='b', alpha=0.3)\n",
    "plt.fill_between(range(num_days), lower_ci_R, upper_ci_R, color='g', alpha=0.3)\n",
    "\n",
    "plt.xlabel('Days')\n",
    "plt.ylabel('Population')\n",
    "plt.title('SIRS Model Simulation')\n",
    "#legend beside the plot\n",
    "plt.legend(bbox_to_anchor=(1.05, 1), loc='upper left', borderaxespad=0.)\n",
    "plt.show()"
   ]
  }
 ],
 "metadata": {
  "kernelspec": {
   "display_name": "base",
   "language": "python",
   "name": "python3"
  },
  "language_info": {
   "codemirror_mode": {
    "name": "ipython",
    "version": 3
   },
   "file_extension": ".py",
   "mimetype": "text/x-python",
   "name": "python",
   "nbconvert_exporter": "python",
   "pygments_lexer": "ipython3",
   "version": "3.9.7"
  },
  "orig_nbformat": 4
 },
 "nbformat": 4,
 "nbformat_minor": 2
}
