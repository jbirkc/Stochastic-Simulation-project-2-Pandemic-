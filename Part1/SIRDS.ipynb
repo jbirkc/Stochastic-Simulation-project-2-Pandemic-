{
 "cells": [
  {
   "cell_type": "code",
   "execution_count": 1,
   "metadata": {},
   "outputs": [],
   "source": [
    "import numpy as np\n",
    "import matplotlib.pyplot as plt"
   ]
  },
  {
   "cell_type": "code",
   "execution_count": 2,
   "metadata": {},
   "outputs": [],
   "source": [
    "def simulate_det_SIRDS_model(beta, gamma, xi, mu, N, I0, R0, num_days):\n",
    "    S, I, R, D = np.zeros(num_days), np.zeros(num_days), np.zeros(num_days), np.zeros(num_days)\n",
    "    S[0] = N - I0 - R0\n",
    "    I[0] = I0\n",
    "    R[0] = R0\n",
    "    D[0] = 0\n",
    "\n",
    "    for t in range(1, num_days):\n",
    "        new_infections = beta * S[t-1] * I[t-1] / N\n",
    "        new_recoveries = gamma * I[t-1]\n",
    "        new_susceptibles = xi * R[t-1]\n",
    "        new_death = mu * I[t-1]\n",
    "        \n",
    "        S[t] = S[t-1] - new_infections + new_susceptibles\n",
    "        I[t] = I[t-1] + new_infections - new_recoveries - new_death\n",
    "        R[t] = R[t-1] + new_recoveries - new_susceptibles \n",
    "        D[t] = D[t-1] + new_death\n",
    "    \n",
    "    return S, I, R, D\n",
    "\n",
    "\n",
    "def simulate_stoc_SIRDS_model(beta, gamma, xi, mu, N, I0, R0, num_days):\n",
    "    S, I, R, D = np.zeros(num_days), np.zeros(num_days), np.zeros(num_days), np.zeros(num_days)\n",
    "    S[0] = N - I0 - R0\n",
    "    I[0] = I0\n",
    "    R[0] = R0\n",
    "    D[0] = 0\n",
    "\n",
    "    for t in range(1,num_days):\n",
    "        if I[t-1] < 0:\n",
    "            I[t-1] = 0\n",
    "        elif R[t-1] < 0:\n",
    "            R[t-1] = 0\n",
    "        elif S[t-1] < 0:\n",
    "            S[t-1] = 0\n",
    "                \n",
    "        new_infections = np.random.binomial(S[t-1], beta * I[t-1] / N)\n",
    "        new_recoveries = np.random.binomial(I[t-1], gamma)\n",
    "        new_susceptibles = np.random.binomial(R[t-1], xi)\n",
    "        new_death = np.random.binomial(I[t-1], mu)\n",
    "\n",
    "        S[t] = S[t-1] - new_infections + new_susceptibles\n",
    "        I[t] = I[t-1] + new_infections - new_recoveries - new_death\n",
    "        R[t] = R[t-1] + new_recoveries - new_susceptibles \n",
    "        D[t] = D[t-1] + new_death\n",
    "        \n",
    "    return S, I, R, D"
   ]
  },
  {
   "cell_type": "code",
   "execution_count": 16,
   "metadata": {},
   "outputs": [
    {
     "data": {
      "image/png": "[encoded data removed]",
      "text/plain": [
       "<Figure size 432x288 with 1 Axes>"
      ]
     },
     "metadata": {
      "needs_background": "light"
     },
     "output_type": "display_data"
    }
   ],
   "source": [
    "# Define the parameters\n",
    "beta = 0.25\n",
    "gamma = 1/20\n",
    "xi = 1/100\n",
    "mu = 1/100\n",
    "N = 1000\n",
    "I0, R0 = 5, 0\n",
    "num_days = 100\n",
    "\n",
    "# Simulate SIRS deterministic model\n",
    "S_det, I_det, R_det, D_det = simulate_det_SIRDS_model(beta, gamma, xi, mu, N, I0, R0, num_days)\n",
    "\n",
    "# makes 100 plots\n",
    "num_simulations = 100\n",
    "\n",
    "# Arrays to store simulation results\n",
    "all_S = np.zeros((num_simulations, num_days))\n",
    "all_I = np.zeros((num_simulations, num_days))\n",
    "all_R = np.zeros((num_simulations, num_days))\n",
    "all_D = np.zeros((num_simulations, num_days))\n",
    "\n",
    "# Run simulations\n",
    "for i in range(num_simulations):\n",
    "    # Simulate SIR model\n",
    "    S, I, R, D = simulate_stoc_SIRDS_model(beta, gamma, xi, mu, N, I0, R0, num_days)\n",
    "    # Store results\n",
    "    all_S[i] = S\n",
    "    all_I[i] = I\n",
    "    all_R[i] = R\n",
    "    all_D[i] = D\n",
    "\n",
    "# Calculate mean and confidence interval\n",
    "mean_S = np.mean(all_S, axis=0)\n",
    "mean_I = np.mean(all_I, axis=0)\n",
    "mean_R = np.mean(all_R, axis=0)\n",
    "mean_D = np.mean(all_D, axis=0)\n",
    "\n",
    "std_S = np.std(all_S, axis=0)\n",
    "std_I = np.std(all_I, axis=0)\n",
    "std_R = np.std(all_R, axis=0)\n",
    "std_D = np.std(all_D, axis=0)\n",
    "\n",
    "lower_ci_S = mean_S - 1.96 * std_S / np.sqrt(num_simulations)\n",
    "lower_ci_I = mean_I - 1.96 * std_I / np.sqrt(num_simulations)\n",
    "lower_ci_R = mean_R - 1.96 * std_R / np.sqrt(num_simulations)\n",
    "lower_ci_D = mean_D - 1.96 * std_D / np.sqrt(num_simulations)\n",
    "\n",
    "upper_ci_S = mean_S + 1.96 * std_S / np.sqrt(num_simulations)\n",
    "upper_ci_I = mean_I + 1.96 * std_I / np.sqrt(num_simulations)\n",
    "upper_ci_R = mean_R + 1.96 * std_R / np.sqrt(num_simulations)\n",
    "upper_ci_D = mean_D + 1.96 * std_D / np.sqrt(num_simulations)\n",
    "\n",
    "#the mean and confidence interval\n",
    "plt.plot(mean_S, label='Mean S', color='r', linestyle=(0,(4,5)), alpha=0.5)\n",
    "plt.plot(mean_I, label='Mean I', color='b', linestyle=(0,(4,5)), alpha=0.5)\n",
    "plt.plot(mean_R, label='Mean R', color='g', linestyle=(0,(4,5)), alpha=0.5)\n",
    "plt.plot(mean_D, label='Mean D', color='k', linestyle=(0,(4,5)), alpha=0.5)\n",
    "\n",
    "plt.fill_between(range(num_days), lower_ci_S, upper_ci_S, color='r', alpha=0.3)\n",
    "plt.fill_between(range(num_days), lower_ci_I, upper_ci_I, color='b', alpha=0.3)\n",
    "plt.fill_between(range(num_days), lower_ci_R, upper_ci_R, color='g', alpha=0.3)\n",
    "plt.fill_between(range(num_days), lower_ci_D, upper_ci_D, color='k', alpha=0.3)\n",
    "\n",
    "plt.xlabel('Days')\n",
    "plt.ylabel('Population')\n",
    "plt.title('SIRDS Model Simulation')\n",
    "#legend beside the plot\n",
    "plt.legend(bbox_to_anchor=(1.05, 1), loc='upper left', borderaxespad=0.)\n",
    "\n",
    "plt.show()"
   ]
  },
  {
   "cell_type": "code",
   "execution_count": 4,
   "metadata": {},
   "outputs": [
    {
     "name": "stdout",
     "output_type": "stream",
     "text": [
      "1000.0\n",
      "max_params(beta, gamma, mu): (0.778, 0.001, 0.556, 0.112)\n"
     ]
    }
   ],
   "source": [
    "# Parameters\n",
    "N = 1000\n",
    "I0, R0 = 5, 0\n",
    "num_days = 100\n",
    "\n",
    "# Arrays to store simulation results\n",
    "most_dead = []\n",
    "index = []\n",
    "ran = np.linspace(0.001,1,10)\n",
    "# Run simulations\n",
    "for i in ran:\n",
    "    for j in ran:\n",
    "        for k in ran:\n",
    "            for l in ran:\n",
    "                # Simulate SIR model\n",
    "                S, I, R, D = simulate_stoc_SIRDS_model(i, k, j, l, N, I0, R0, num_days)\n",
    "                # Store results\n",
    "                most_dead.append(D[-1])\n",
    "                index.append((i, k, j, l))\n",
    "\n",
    "# maximum number of dead\n",
    "max_dead = max(most_dead)\n",
    "print(max_dead)\n",
    "# index of the maximum number of dead\n",
    "max_index = most_dead.index(max_dead)\n",
    "# the parameters of the maximum number of dead\n",
    "max_params = index[max_index]\n",
    "print('max_params(beta, gamma, mu, xi):', max_params)"
   ]
  }
 ],
 "metadata": {
  "kernelspec": {
   "display_name": "base",
   "language": "python",
   "name": "python3"
  },
  "language_info": {
   "codemirror_mode": {
    "name": "ipython",
    "version": 3
   },
   "file_extension": ".py",
   "mimetype": "text/x-python",
   "name": "python",
   "nbconvert_exporter": "python",
   "pygments_lexer": "ipython3",
   "version": "3.9.7"
  },
  "orig_nbformat": 4
 },
 "nbformat": 4,
 "nbformat_minor": 2
}
