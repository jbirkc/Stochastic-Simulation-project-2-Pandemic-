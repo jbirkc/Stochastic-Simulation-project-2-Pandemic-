{
 "cells": [
  {
   "cell_type": "code",
   "execution_count": 4,
   "metadata": {
    "collapsed": true,
    "ExecuteTime": {
     "end_time": "2023-06-15T08:29:22.433761340Z",
     "start_time": "2023-06-15T08:29:22.431674143Z"
    }
   },
   "outputs": [],
   "source": [
    "from SEIRgh import simulate_seir_model, simulate_det_seir_model\n",
    "import numpy as np"
   ]
  },
  {
   "cell_type": "code",
   "execution_count": 5,
   "outputs": [],
   "source": [
    "def simulate_seir_model(N, I0, R0, E0, beta, gamma, sigma,num_days):\n",
    "    S = np.zeros(num_days)\n",
    "    E = np.zeros(num_days)\n",
    "    I = np.zeros(num_days)\n",
    "    R = np.zeros(num_days)\n",
    "\n",
    "    \n",
    "    S[0] = N - I0 - R0\n",
    "    E[0] = E0\n",
    "    I[0] = I0\n",
    "    R[0] = R0\n",
    "\n",
    "    for t in range(1, num_days):\n",
    "        new_infections = np.random.binomial(S[t-1], beta * I[t-1] / N)\n",
    "        new_recoveries = np.random.binomial(I[t-1], gamma)\n",
    "\n",
    "        S[t] = S[t-1] - new_infections\n",
    "        E[t] = E[t-1] + new_infections - np.random.binomial(E[t-1], sigma)\n",
    "        I[t] = I[t-1] + np.random.binomial(E[t-1], sigma) - new_recoveries\n",
    "        R[t] = R[t-1] + new_recoveries\n",
    "\n",
    "\n",
    "    return S, E, I, R\n"
   ],
   "metadata": {
    "collapsed": false,
    "ExecuteTime": {
     "end_time": "2023-06-15T08:29:23.498505130Z",
     "start_time": "2023-06-15T08:29:23.496854186Z"
    }
   }
  },
  {
   "cell_type": "code",
   "execution_count": null,
   "outputs": [],
   "source": [],
   "metadata": {
    "collapsed": false
   }
  },
  {
   "cell_type": "code",
   "execution_count": null,
   "outputs": [],
   "source": [],
   "metadata": {
    "collapsed": false
   }
  }
 ],
 "metadata": {
  "kernelspec": {
   "display_name": "Python 3",
   "language": "python",
   "name": "python3"
  },
  "language_info": {
   "codemirror_mode": {
    "name": "ipython",
    "version": 2
   },
   "file_extension": ".py",
   "mimetype": "text/x-python",
   "name": "python",
   "nbconvert_exporter": "python",
   "pygments_lexer": "ipython2",
   "version": "2.7.6"
  }
 },
 "nbformat": 4,
 "nbformat_minor": 0
}
